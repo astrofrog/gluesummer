{
 "cells": [
  {
   "cell_type": "code",
   "execution_count": 1,
   "metadata": {},
   "outputs": [],
   "source": [
    "# Laura Chapman\n",
    "# Script for developing statistical tools for Glue\n",
    "# Computes statistics for subsets as well as entire data using compute_statistic\n",
    "# Changed from astropy tables to pandas dataframe\n",
    "\n",
    "# Format data well in a popup using qt\n",
    "# Color code by subset"
   ]
  },
  {
   "cell_type": "code",
   "execution_count": 2,
   "metadata": {},
   "outputs": [
    {
     "name": "stderr",
     "output_type": "stream",
     "text": [
      "WARNING: W03: w5_psc.vot:11:0: W03: Implicitly generating an ID from a name 'J/ApJ/688/1142/table2' -> 'J_ApJ_688_1142_table2' [astropy.io.votable.xmlutil]\n",
      "WARNING:astropy:W03: w5_psc.vot:11:0: W03: Implicitly generating an ID from a name 'J/ApJ/688/1142/table2' -> 'J_ApJ_688_1142_table2'\n",
      "WARNING: W03: w5_psc.vot:17:0: W03: Implicitly generating an ID from a name '-ref' -> '_-ref' [astropy.io.votable.xmlutil]\n",
      "WARNING:astropy:W03: w5_psc.vot:17:0: W03: Implicitly generating an ID from a name '-ref' -> '_-ref'\n",
      "WARNING: W03: w5_psc.vot:18:0: W03: Implicitly generating an ID from a name '-out.max' -> '_-out.max' [astropy.io.votable.xmlutil]\n",
      "WARNING:astropy:W03: w5_psc.vot:18:0: W03: Implicitly generating an ID from a name '-out.max' -> '_-out.max'\n",
      "WARNING: W03: w5_psc.vot:63:0: W03: Implicitly generating an ID from a name '[3.6]' -> '__3.6_' [astropy.io.votable.xmlutil]\n",
      "WARNING:astropy:W03: w5_psc.vot:63:0: W03: Implicitly generating an ID from a name '[3.6]' -> '__3.6_'\n",
      "WARNING: W03: w5_psc.vot:66:0: W03: Implicitly generating an ID from a name '[4.5]' -> '__4.5_' [astropy.io.votable.xmlutil]\n",
      "WARNING:astropy:W03: w5_psc.vot:66:0: W03: Implicitly generating an ID from a name '[4.5]' -> '__4.5_'\n",
      "WARNING: W03: w5_psc.vot:69:0: W03: Implicitly generating an ID from a name '[5.8]' -> '__5.8_' [astropy.io.votable.xmlutil]\n",
      "WARNING:astropy:W03: w5_psc.vot:69:0: W03: Implicitly generating an ID from a name '[5.8]' -> '__5.8_'\n",
      "WARNING: W03: w5_psc.vot:72:0: W03: Implicitly generating an ID from a name '[8.0]' -> '__8.0_' [astropy.io.votable.xmlutil]\n",
      "WARNING:astropy:W03: w5_psc.vot:72:0: W03: Implicitly generating an ID from a name '[8.0]' -> '__8.0_'\n",
      "WARNING: W03: w5_psc.vot:75:0: W03: Implicitly generating an ID from a name '[24]' -> '__24_' [astropy.io.votable.xmlutil]\n",
      "WARNING:astropy:W03: w5_psc.vot:75:0: W03: Implicitly generating an ID from a name '[24]' -> '__24_'\n",
      "WARNING: W03: w5_psc.vot:81:0: W03: Implicitly generating an ID from a name '[4.5] - [5.8]' -> '__4.5__-__5.8_' [astropy.io.votable.xmlutil]\n",
      "WARNING:astropy:W03: w5_psc.vot:81:0: W03: Implicitly generating an ID from a name '[4.5] - [5.8]' -> '__4.5__-__5.8_'\n",
      "WARNING: W03: w5_psc.vot:84:0: W03: Implicitly generating an ID from a name '[5.8] - [8.0]' -> '__5.8__-__8.0_' (suppressing further warnings of this type...) [astropy.io.votable.xmlutil]\n",
      "WARNING:astropy:W03: w5_psc.vot:84:0: W03: Implicitly generating an ID from a name '[5.8] - [8.0]' -> '__5.8__-__8.0_' (suppressing further warnings of this type...)\n"
     ]
    }
   ],
   "source": [
    "# Basic code that imports glue and loads in and links the data\n",
    "\n",
    "import sys\n",
    "from glue.core.data_factories import load_data\n",
    "from glue.core import DataCollection\n",
    "from glue.core.link_helpers import LinkSame\n",
    "from glue.app.qt.application import GlueApplication\n",
    "from glue.viewers.image.qt import ImageViewer\n",
    "from glue_vispy_viewers.volume.volume_viewer import VispyVolumeViewer\n",
    "\n",
    "image_filename='w5.fits'\n",
    "catalog_filename='w5_psc.vot'\n",
    "\n",
    "#load 2 datasets from files\n",
    "catalog = load_data(catalog_filename)\n",
    "image = load_data(image_filename)\n",
    "\n",
    "dc = DataCollection([catalog,image])\n",
    "\n",
    "# link positional information\n",
    "dc.add_link(LinkSame(catalog.id['RAJ2000'], image.id['Right Ascension']))\n",
    "dc.add_link(LinkSame(catalog.id['DEJ2000'], image.id['Declination']))\n",
    "\n",
    "#Create subset based on filament mask\n",
    "ra_state=(image.id['Right Ascension'] > 44) & (image.id['Right Ascension'] < 46)\n",
    "subset_group=dc.new_subset_group('RA_Selection',ra_state)\n",
    "subset_group.style.color = '#0000FF'\n",
    "\n"
   ]
  },
  {
   "cell_type": "code",
   "execution_count": 3,
   "metadata": {},
   "outputs": [],
   "source": [
    "import glue.utils.array as gua\n",
    "import glue.core.data as gcd\n",
    "from astropy.table import Table"
   ]
  },
  {
   "cell_type": "code",
   "execution_count": 4,
   "metadata": {},
   "outputs": [],
   "source": [
    "# Constructs a pandas DataFrame instead of an astropy table\n",
    "\n",
    "import pandas as pd\n",
    "from pandas import DataFrame\n",
    "import numpy as np"
   ]
  },
  {
   "cell_type": "code",
   "execution_count": 5,
   "metadata": {},
   "outputs": [
    {
     "name": "stdout",
     "output_type": "stream",
     "text": [
      "w5_psc subset1\n",
      "\n"
     ]
    }
   ],
   "source": [
    "# Defines a subset and runs statistics using compute_statistic for the subset\n",
    "# Saves data using a pandas dataframe called my_pandas_data\n",
    "\n",
    "# Data that subset is pulled from\n",
    "data = dc[0]\n",
    "\n",
    "# Define state and subset\n",
    "state1 = data.id['Jmag'] > 14\n",
    "subset1 = data.new_subset(state1, label='Jmag > 14')\n",
    "\n",
    "# Same arrays as with full data\n",
    "mean_array = []\n",
    "median_array = []\n",
    "min_array = []\n",
    "max_array = []\n",
    "sum_array = []\n",
    "name_array = []\n",
    "tables = []\n",
    "\n",
    "headings = ('mean', 'median', 'minimum', 'maximum', 'sum')\n",
    "\n",
    "print(data.label, 'subset1')\n",
    "print() \n",
    "for j in range (0, len(data.components)):\n",
    "    name = data.components[j].label # Get the name of each component\n",
    "    name_array.append(name) # add to the name array to build the table\n",
    "    mean_array.append(data.compute_statistic('mean', subset1.components[j], subset_state=subset1.subset_state))\n",
    "    median_array.append(data.compute_statistic('median', subset1.components[j], subset_state=subset1.subset_state))       \n",
    "    min_array.append(data.compute_statistic('minimum', subset1.components[j], subset_state=subset1.subset_state))       \n",
    "    max_array.append(data.compute_statistic('maximum', subset1.components[j], subset_state=subset1.subset_state))      \n",
    "    sum_array.append(data.compute_statistic('sum', subset1.components[j], subset_state=subset1.subset_state))        \n",
    "   \n",
    "column_data = np.asarray([mean_array, median_array, min_array, max_array, sum_array]).transpose()\n",
    "\n",
    "my_pandas_data = pd.DataFrame(column_data, index=name_array, columns=headings)"
   ]
  },
  {
   "cell_type": "code",
   "execution_count": 46,
   "metadata": {},
   "outputs": [
    {
     "name": "stdout",
     "output_type": "stream",
     "text": [
      "QApplication instance already exists: <PyQt5.QtWidgets.QApplication object at 0x1518a17948>\n",
      "World 0\n",
      "[1]\n",
      "{'w5_psc': array([ 0.,  1.,  0.,  0.,  0.,  0.,  0.,  0.,  0.,  0.,  0.,  0.,  0.,\n",
      "        0.,  0.,  0.]), 'w5': array([ 0.,  0.,  0.,  0.,  0.])}\n",
      "DEJ2000\n",
      "[4]\n",
      "{'w5_psc': array([ 0.,  1.,  0.,  0.,  1.,  0.,  0.,  0.,  0.,  0.,  0.,  0.,  0.,\n",
      "        0.,  0.,  0.]), 'w5': array([ 0.,  0.,  0.,  0.,  0.])}\n",
      "<PyQt5.QtWidgets.QGridLayout object at 0x151dbeb1f8>\n",
      "<PyQt5.QtWidgets.QGridLayout object at 0x151dbeb1f8>\n"
     ]
    },
    {
     "ename": "SystemExit",
     "evalue": "0",
     "output_type": "error",
     "traceback": [
      "An exception has occurred, use %tb to see the full traceback.\n",
      "\u001b[0;31mSystemExit\u001b[0m\u001b[0;31m:\u001b[0m 0\n"
     ]
    },
    {
     "name": "stderr",
     "output_type": "stream",
     "text": [
      "/Users/laurachapman/anaconda/envs/glueviz-dev/lib/python3.6/site-packages/IPython/core/interactiveshell.py:2971: UserWarning: To exit: use 'exit', 'quit', or Ctrl-D.\n",
      "  warn(\"To exit: use 'exit', 'quit', or Ctrl-D.\", stacklevel=1)\n"
     ]
    }
   ],
   "source": [
    "from PyQt5.QtWidgets import QApplication, QComboBox, QWidget, QPushButton, QHBoxLayout, QTableView,QGroupBox, QDialog, QVBoxLayout, QLabel,QGridLayout\n",
    "from PyQt5.QtGui import QIcon\n",
    "from PyQt5.QtCore import pyqtSlot, QVariant\n",
    "from PyQt5 import QtCore\n",
    "import sys\n",
    "\n",
    "from PyQt5 import QtCore, QtWidgets, QtGui\n",
    "Qt = QtCore.Qt\n",
    "# from PyQt5.QtCore import QVariant\n",
    "from qtpy.QtWidgets import (QApplication, QLabel, QWidget, QComboBox, QCheckBox,\n",
    "                            QVBoxLayout, QPushButton, QGridLayout, QTableView) \n",
    "\n",
    "class AbsolutePositioningExample(QWidget):\n",
    "    ''' An example of PySide absolute positioning; the main window\n",
    "        inherits from QWidget, a convenient widget for an empty window. '''\n",
    "    def __init__(self,dc):\n",
    "        # Initialize the object as a QWidget\n",
    "        QWidget.__init__(self)\n",
    "        \n",
    "        self.dc=dc\n",
    "#         self.pressed_dictionary= {}\n",
    "#         for i in range (len(self.dc)):\n",
    "#             for j in range (len(self.dc[i].components)):\n",
    "#                 self.pressed_dictionary[]\n",
    "\n",
    "\n",
    "        self.toggle_dictionary = dict((dc.labels[i], np.zeros(len(dc[i].components))) for i in range(0, len(dc)))\n",
    "\n",
    "        self.setMinimumSize(800, 600)\n",
    "        self.setMaximumSize(800, 600)\n",
    "\n",
    "        self.setWindowTitle('Statistics')\n",
    "        \n",
    "        self.choose_data = QComboBox(self)\n",
    "        self.choose_data.addItems([\"Choose a dataset\"])\n",
    "        self.choose_data.addItems(dc.labels)\n",
    "        self.choose_data.model().item(0).setEnabled(False)\n",
    "        self.choose_data.move(300, 5)\n",
    "        self.choose_data.currentIndexChanged.connect(self.selectionchange)\n",
    "        \n",
    "        self.table = QTableView(self)\n",
    "        self.table.setGeometry(50, 250, 700, 300) \n",
    "\n",
    "\n",
    "        self.horizontalGroupBox = QGroupBox(self)\n",
    "        self.horizontalGroupBox.setGeometry(50, 50, 700, 200) \n",
    "\n",
    "        \n",
    "    def clicked(self):\n",
    "        button=self.sender()\n",
    "        if isinstance(button, QPushButton):\n",
    "            if button.isChecked():\n",
    "                print(button.text()) \n",
    "                # see where in the components the label is the same as the push button\n",
    "                index = np.where(np.asarray(dc[self.data_index].components).astype(str) == button.text())[0]\n",
    "                \n",
    "                print(index)\n",
    "                self.toggle_dictionary[dc.labels[self.data_index]][index] = 1\n",
    "\n",
    "            else:\n",
    "                index = np.where(np.asarray(dc[self.data_index].components).astype(str) == button.text())[0]\n",
    "                self.toggle_dictionary[dc.labels[self.data_index]][index] = 0\n",
    "            print(self.toggle_dictionary)    \n",
    "                \n",
    "    def selectionchange(self, i):\n",
    "        self.data_index = i-1\n",
    "        \n",
    "    \n",
    "    \n",
    "        try:\n",
    "            self.component_layout\n",
    "            \n",
    "            # Check the states of the buttons and edit the toggle dict\n",
    "            print(self.component_layout)\n",
    "            \n",
    "            \n",
    "            while self.component_layout.count():\n",
    "                # While it exists it deletes the first button\n",
    "                item = self.component_layout.takeAt(0)\n",
    "                widget = item.widget()\n",
    "                widget.deleteLater()\n",
    "        except:\n",
    "            self.component_layout = QGridLayout()\n",
    "            \n",
    "        ncols=3\n",
    "        nrows=int(np.round((len(self.dc[self.data_index].components)/3.)+0.5))\n",
    "\n",
    "        i=0\n",
    "        for col in range(0,nrows):\n",
    "            for row in range(0,ncols):\n",
    "                btnlabel=str(self.dc[self.data_index].components[i])\n",
    "                btn=QPushButton(btnlabel)\n",
    "                btn.setCheckable(True)\n",
    "                btn.toggle()\n",
    "                btn.clicked.connect(self.clicked)\n",
    "                self.component_layout.addWidget(btn,col,row)\n",
    "                \n",
    "                if self.toggle_dictionary[dc.labels[self.data_index]][i] == 0:\n",
    "                    btn.setChecked(False)\n",
    "                else:\n",
    "                    btn.setChecked(True)\n",
    "                    \n",
    "                i=i+1\n",
    "                \n",
    "                if i==len(dc[self.data_index].components):\n",
    "                    break    \n",
    "                \n",
    "        self.horizontalGroupBox.setLayout(self.component_layout)\n",
    "    \n",
    "class pandasModel(QtCore.QAbstractTableModel):\n",
    "    # Set up the data in a form that allows it to be added to qt widget\n",
    "    def __init__(self, df, parent=None):\n",
    "        QtCore.QAbstractTableModel.__init__(self, parent)\n",
    "        self.data_frame = df\n",
    "        super(pandasModel, self).__init__(parent)      \n",
    "\n",
    "    def rowCount(self, parent=None):\n",
    "        return len(self.data_frame.values)\n",
    "\n",
    "    def columnCount(self, parent=None):\n",
    "        return self.data_frame.columns.size\n",
    "\n",
    "    def data(self, index, role=Qt.DisplayRole):\n",
    "        if index.isValid():\n",
    "            if role == Qt.DisplayRole:\n",
    "                return QVariant(str(\n",
    "                    self.data_frame.values[index.row()][index.column()]))\n",
    "        return QVariant()\n",
    "    \n",
    "    def headerData(self, col, orientation, role):\n",
    "        if orientation == Qt.Horizontal and role == Qt.DisplayRole:\n",
    "            return QVariant(self.data_frame.columns[col])\n",
    "        if orientation == Qt.Vertical and role == Qt.DisplayRole:\n",
    "            return QVariant(self.data_frame.index[col])\n",
    "        return QVariant()  \n",
    "        \n",
    "app = QApplication.instance()\n",
    "if app is None:\n",
    "    app = QApplication(sys.argv)\n",
    "else:\n",
    "    print('QApplication instance already exists: %s' % str(app))\n",
    "ex = AbsolutePositioningExample(dc)\n",
    "ex.show()\n",
    "sys.exit(app.exec_())"
   ]
  },
  {
   "cell_type": "code",
   "execution_count": 21,
   "metadata": {},
   "outputs": [
    {
     "ename": "NameError",
     "evalue": "name 'sender' is not defined",
     "output_type": "error",
     "traceback": [
      "\u001b[0;31m---------------------------------------------------------------------------\u001b[0m",
      "\u001b[0;31mNameError\u001b[0m                                 Traceback (most recent call last)",
      "\u001b[0;32m<ipython-input-21-944be1c36a62>\u001b[0m in \u001b[0;36m<module>\u001b[0;34m()\u001b[0m\n\u001b[0;32m----> 1\u001b[0;31m \u001b[0mhelp\u001b[0m\u001b[0;34m(\u001b[0m\u001b[0msender\u001b[0m\u001b[0;34m)\u001b[0m\u001b[0;34m\u001b[0m\u001b[0m\n\u001b[0m",
      "\u001b[0;31mNameError\u001b[0m: name 'sender' is not defined"
     ]
    }
   ],
   "source": [
    "# Track which buttons are clicked or not clicked \n",
    "# Save this info as a dictionary?  key words are different data sets "
   ]
  },
  {
   "cell_type": "code",
   "execution_count": 27,
   "metadata": {},
   "outputs": [
    {
     "data": {
      "text/plain": [
       "['w5_psc', 'w5']"
      ]
     },
     "execution_count": 27,
     "metadata": {},
     "output_type": "execute_result"
    }
   ],
   "source": [
    "dc.labels"
   ]
  },
  {
   "cell_type": "code",
   "execution_count": 29,
   "metadata": {},
   "outputs": [],
   "source": [
    "toggle_dictionary = dict((dc.labels[i], np.zeros(len(dc[i].components))) for i in range(0, len(dc)))"
   ]
  },
  {
   "cell_type": "code",
   "execution_count": 32,
   "metadata": {},
   "outputs": [
    {
     "data": {
      "text/plain": [
       "0.0"
      ]
     },
     "execution_count": 32,
     "metadata": {},
     "output_type": "execute_result"
    }
   ],
   "source": [
    "toggle_dictionary[dc.labels[1]][0]"
   ]
  },
  {
   "cell_type": "code",
   "execution_count": null,
   "metadata": {},
   "outputs": [],
   "source": []
  }
 ],
 "metadata": {
  "kernelspec": {
   "display_name": "Python 3",
   "language": "python",
   "name": "python3"
  },
  "language_info": {
   "codemirror_mode": {
    "name": "ipython",
    "version": 3
   },
   "file_extension": ".py",
   "mimetype": "text/x-python",
   "name": "python",
   "nbconvert_exporter": "python",
   "pygments_lexer": "ipython3",
   "version": "3.6.5"
  }
 },
 "nbformat": 4,
 "nbformat_minor": 2
}
