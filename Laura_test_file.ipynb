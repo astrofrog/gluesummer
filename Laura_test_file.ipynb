{
 "cells": [
  {
   "cell_type": "code",
   "execution_count": null,
   "metadata": {
    "collapsed": true
   },
   "outputs": [],
   "source": [
    "# Laura Chapman\n",
    "# Script for developing statistical tools for Glue\n",
    "# As of 6/12/18, correctly outputs mean, median, min, max as a printed table and a (badly formatted) popup window\n",
    "# compute_statistic working after updating jupyter notebook\n",
    "\n",
    "# Things to fix:\n",
    "# Want statistical calculations to avoid accessing data arrays directly because this will be inefficient for large\n",
    "# data sets- ideally with compute_statistic\n",
    "# Make popup window well formatted with lined up columns and resizing with the width/height of the data"
   ]
  },
  {
   "cell_type": "code",
   "execution_count": 1,
   "metadata": {},
   "outputs": [
    {
     "name": "stderr",
     "output_type": "stream",
     "text": [
      "WARNING: W03: w5_psc.vot:11:0: W03: Implicitly generating an ID from a name 'J/ApJ/688/1142/table2' -> 'J_ApJ_688_1142_table2' [astropy.io.votable.xmlutil]\n",
      "WARNING:astropy:W03: w5_psc.vot:11:0: W03: Implicitly generating an ID from a name 'J/ApJ/688/1142/table2' -> 'J_ApJ_688_1142_table2'\n",
      "WARNING: W03: w5_psc.vot:17:0: W03: Implicitly generating an ID from a name '-ref' -> '_-ref' [astropy.io.votable.xmlutil]\n",
      "WARNING:astropy:W03: w5_psc.vot:17:0: W03: Implicitly generating an ID from a name '-ref' -> '_-ref'\n",
      "WARNING: W03: w5_psc.vot:18:0: W03: Implicitly generating an ID from a name '-out.max' -> '_-out.max' [astropy.io.votable.xmlutil]\n",
      "WARNING:astropy:W03: w5_psc.vot:18:0: W03: Implicitly generating an ID from a name '-out.max' -> '_-out.max'\n",
      "WARNING: W03: w5_psc.vot:63:0: W03: Implicitly generating an ID from a name '[3.6]' -> '__3.6_' [astropy.io.votable.xmlutil]\n",
      "WARNING:astropy:W03: w5_psc.vot:63:0: W03: Implicitly generating an ID from a name '[3.6]' -> '__3.6_'\n",
      "WARNING: W03: w5_psc.vot:66:0: W03: Implicitly generating an ID from a name '[4.5]' -> '__4.5_' [astropy.io.votable.xmlutil]\n",
      "WARNING:astropy:W03: w5_psc.vot:66:0: W03: Implicitly generating an ID from a name '[4.5]' -> '__4.5_'\n",
      "WARNING: W03: w5_psc.vot:69:0: W03: Implicitly generating an ID from a name '[5.8]' -> '__5.8_' [astropy.io.votable.xmlutil]\n",
      "WARNING:astropy:W03: w5_psc.vot:69:0: W03: Implicitly generating an ID from a name '[5.8]' -> '__5.8_'\n",
      "WARNING: W03: w5_psc.vot:72:0: W03: Implicitly generating an ID from a name '[8.0]' -> '__8.0_' [astropy.io.votable.xmlutil]\n",
      "WARNING:astropy:W03: w5_psc.vot:72:0: W03: Implicitly generating an ID from a name '[8.0]' -> '__8.0_'\n",
      "WARNING: W03: w5_psc.vot:75:0: W03: Implicitly generating an ID from a name '[24]' -> '__24_' [astropy.io.votable.xmlutil]\n",
      "WARNING:astropy:W03: w5_psc.vot:75:0: W03: Implicitly generating an ID from a name '[24]' -> '__24_'\n",
      "WARNING: W03: w5_psc.vot:81:0: W03: Implicitly generating an ID from a name '[4.5] - [5.8]' -> '__4.5__-__5.8_' [astropy.io.votable.xmlutil]\n",
      "WARNING:astropy:W03: w5_psc.vot:81:0: W03: Implicitly generating an ID from a name '[4.5] - [5.8]' -> '__4.5__-__5.8_'\n",
      "WARNING: W03: w5_psc.vot:84:0: W03: Implicitly generating an ID from a name '[5.8] - [8.0]' -> '__5.8__-__8.0_' (suppressing further warnings of this type...) [astropy.io.votable.xmlutil]\n",
      "WARNING:astropy:W03: w5_psc.vot:84:0: W03: Implicitly generating an ID from a name '[5.8] - [8.0]' -> '__5.8__-__8.0_' (suppressing further warnings of this type...)\n"
     ]
    }
   ],
   "source": [
    "import sys\n",
    "from glue.core.data_factories import load_data\n",
    "from glue.core import DataCollection\n",
    "from glue.core.link_helpers import LinkSame\n",
    "from glue.app.qt.application import GlueApplication\n",
    "from glue.viewers.image.qt import ImageViewer\n",
    "from glue_vispy_viewers.volume.volume_viewer import VispyVolumeViewer\n",
    "\n",
    "image_filename='w5.fits'\n",
    "catalog_filename='w5_psc.vot'\n",
    "\n",
    "#load 2 datasets from files\n",
    "catalog = load_data(catalog_filename)\n",
    "image = load_data(image_filename)\n",
    "\n",
    "dc = DataCollection([catalog,image])\n",
    "\n",
    "# link positional information\n",
    "dc.add_link(LinkSame(catalog.id['RAJ2000'], image.id['Right Ascension']))\n",
    "dc.add_link(LinkSame(catalog.id['DEJ2000'], image.id['Declination']))\n",
    "\n",
    "#Create subset based on filament mask\n",
    "ra_state=(image.id['Right Ascension'] > 44) & (image.id['Right Ascension'] < 46)\n",
    "subset_group=dc.new_subset_group('RA_Selection',ra_state)\n",
    "subset_group.style.color = '#0000FF'\n",
    "\n",
    "#start Glue\n",
    "# app = GlueApplication(dc)\n",
    "\n",
    "# imageviewer = app.new_data_viewer(ImageViewer)\n",
    "# imageviewer.add_data(image)\n",
    "\n",
    "# app.start()\n",
    "\n"
   ]
  },
  {
   "cell_type": "code",
   "execution_count": 2,
   "metadata": {},
   "outputs": [],
   "source": [
    "import glue.utils.array as gua\n",
    "import glue.core.data as gcd\n",
    "from astropy.table import Table"
   ]
  },
  {
   "cell_type": "code",
   "execution_count": 15,
   "metadata": {},
   "outputs": [
    {
     "name": "stdout",
     "output_type": "stream",
     "text": [
      "w5_psc\n",
      "\n",
      "   component          mean           median           min            max     \n",
      "---------------- -------------- --------------- --------------- -------------\n",
      "Pixel Axis 0 [x]         8885.0          8885.0             0.0       17770.0\n",
      "         World 0         8885.0          8885.0             0.0       17770.0\n",
      "              ID         8886.0          8886.0             1.0       17771.0\n",
      "         RAJ2000     43.5318018       43.468829       41.081526     46.039649\n",
      "         DEJ2000  60.3405947875       60.382988       59.246093     61.493241\n",
      "            Jmag   13.563952446   13.7600002289   5.11999988556 17.4599990845\n",
      "            Hmag  12.9239377975   13.1700000763    3.8900001049 16.4500007629\n",
      "           Ksmag    12.66751194   12.9399995804   3.50999999046 16.0499992371\n",
      "          __3.6_  12.5111446381   12.8000001907   4.86000013351 16.6200008392\n",
      "          __4.5_  12.4496717453   12.7399997711   3.98000001907 16.1299991608\n",
      "          __5.8_  12.3555679321   12.6499996185    2.1400001049 15.0200004578\n",
      "          __8.0_  12.2298612595   12.5500001907   2.55999994278 14.7299995422\n",
      "           __24_  8.01489067078   8.32999992371  0.280000001192          11.5\n",
      "            Type  2.88289910528             3.0             0.0           4.0\n",
      "  __4.5__-__5.8_ 0.093753695488 0.0600004196167  -2.14000034332 2.80000019073\n",
      "  __5.8__-__8.0_ 0.124973930418  0.039999961853 -0.890000343323 1.96000003815\n",
      "\n",
      "w5\n",
      "\n",
      "   component          mean         median         min           max     \n",
      "---------------- ------------- ------------- ------------- -------------\n",
      "Pixel Axis 0 [y]         499.5         499.5           0.0         999.0\n",
      "Pixel Axis 1 [x]         499.5         499.5           0.0         999.0\n",
      "     Declination  60.368487195 60.3685809279 58.8494346118 61.8781584359\n",
      " Right Ascension         43.46         43.46 40.2851612049 46.6348387951\n",
      "         PRIMARY 482.187347412 463.066223145  436.45425415 7402.21972656\n",
      "\n"
     ]
    }
   ],
   "source": [
    "# Prints the name of each data component and the mean, median, min, and max \n",
    "# Uses astropy.table to format the results\n",
    "# Temporarily saves data array to memory, ideally would just be getting the values without this\n",
    "\n",
    "mean_array = []\n",
    "median_array = []\n",
    "min_array = []\n",
    "max_array = []\n",
    "name_array = []\n",
    "tables = []\n",
    "\n",
    "for i in range (0, len(dc)):\n",
    "    print(dc[i].label)\n",
    "    print()\n",
    "    for j in range (0, len(dc[i].components)):\n",
    "        name = dc[i].components[j].label # Get the name of each component\n",
    "        array = dc[i][name] # Access the data using the name\n",
    "        name_array.append(name)\n",
    "        mean_array.append(gua.nanmean(array))\n",
    "        median_array.append(gua.nanmedian(array))\n",
    "        min_array.append(gua.nanmin(array))\n",
    "        max_array.append(gua.nanmax(array))\n",
    "        headings = ('component','mean', 'median', 'min', 'max')\n",
    "#         print(dc[i].components[j], gua.nanmean(array), gua.nanmedian(array), gua.nanmin(array), gua.nanmax(array))\n",
    "        t = Table([name_array, mean_array, median_array, min_array, max_array], names = headings)\n",
    "   \n",
    "    # Save all the tables in an array for display in the popup\n",
    "    tables.append(t)\n",
    "    mean_array = [] # Clear the arrays\n",
    "    median_array = []\n",
    "    min_array = []\n",
    "    max_array = []\n",
    "    name_array = []\n",
    "    print(t)\n",
    "    print()\n",
    "    \n",
    "# print(tables)"
   ]
  },
  {
   "cell_type": "code",
   "execution_count": 18,
   "metadata": {},
   "outputs": [
    {
     "name": "stdout",
     "output_type": "stream",
     "text": [
      "w5_psc\n",
      "\n"
     ]
    },
    {
     "ename": "TypeError",
     "evalue": "ufunc 'isfinite' not supported for the input types, and the inputs could not be safely coerced to any supported types according to the casting rule ''safe''",
     "output_type": "error",
     "traceback": [
      "\u001b[0;31m---------------------------------------------------------------------------\u001b[0m",
      "\u001b[0;31mTypeError\u001b[0m                                 Traceback (most recent call last)",
      "\u001b[0;32m<ipython-input-18-35fbaf0d2293>\u001b[0m in \u001b[0;36m<module>\u001b[0;34m()\u001b[0m\n\u001b[1;32m     17\u001b[0m \u001b[0;31m#         array = dc[i][name] # Access the data using the name\u001b[0m\u001b[0;34m\u001b[0m\u001b[0;34m\u001b[0m\u001b[0m\n\u001b[1;32m     18\u001b[0m         \u001b[0mname_array\u001b[0m\u001b[0;34m.\u001b[0m\u001b[0mappend\u001b[0m\u001b[0;34m(\u001b[0m\u001b[0mname\u001b[0m\u001b[0;34m)\u001b[0m \u001b[0;31m# add to the name array to build the table\u001b[0m\u001b[0;34m\u001b[0m\u001b[0m\n\u001b[0;32m---> 19\u001b[0;31m         \u001b[0mmean_array\u001b[0m\u001b[0;34m.\u001b[0m\u001b[0mappend\u001b[0m\u001b[0;34m(\u001b[0m\u001b[0mgua\u001b[0m\u001b[0;34m.\u001b[0m\u001b[0mcompute_statistic\u001b[0m\u001b[0;34m(\u001b[0m\u001b[0;34m'mean'\u001b[0m\u001b[0;34m,\u001b[0m \u001b[0mdc\u001b[0m\u001b[0;34m[\u001b[0m\u001b[0mi\u001b[0m\u001b[0;34m]\u001b[0m\u001b[0;34m.\u001b[0m\u001b[0mcomponents\u001b[0m\u001b[0;34m[\u001b[0m\u001b[0mj\u001b[0m\u001b[0;34m]\u001b[0m\u001b[0;34m,\u001b[0m \u001b[0mmask\u001b[0m\u001b[0;34m=\u001b[0m\u001b[0;32mNone\u001b[0m\u001b[0;34m,\u001b[0m \u001b[0maxis\u001b[0m\u001b[0;34m=\u001b[0m\u001b[0;32mNone\u001b[0m\u001b[0;34m,\u001b[0m \u001b[0mfinite\u001b[0m\u001b[0;34m=\u001b[0m\u001b[0;32mTrue\u001b[0m\u001b[0;34m)\u001b[0m\u001b[0;34m)\u001b[0m\u001b[0;34m\u001b[0m\u001b[0m\n\u001b[0m\u001b[1;32m     20\u001b[0m         \u001b[0mmedian_array\u001b[0m\u001b[0;34m.\u001b[0m\u001b[0mappend\u001b[0m\u001b[0;34m(\u001b[0m\u001b[0mgua\u001b[0m\u001b[0;34m.\u001b[0m\u001b[0mcompute_statistic\u001b[0m\u001b[0;34m(\u001b[0m\u001b[0;34m'median'\u001b[0m\u001b[0;34m,\u001b[0m \u001b[0mdc\u001b[0m\u001b[0;34m[\u001b[0m\u001b[0mi\u001b[0m\u001b[0;34m]\u001b[0m\u001b[0;34m.\u001b[0m\u001b[0mcomponents\u001b[0m\u001b[0;34m[\u001b[0m\u001b[0mj\u001b[0m\u001b[0;34m]\u001b[0m\u001b[0;34m,\u001b[0m \u001b[0mmask\u001b[0m\u001b[0;34m=\u001b[0m\u001b[0;32mNone\u001b[0m\u001b[0;34m,\u001b[0m \u001b[0maxis\u001b[0m\u001b[0;34m=\u001b[0m\u001b[0;32mNone\u001b[0m\u001b[0;34m,\u001b[0m \u001b[0mfinite\u001b[0m\u001b[0;34m=\u001b[0m\u001b[0;32mTrue\u001b[0m\u001b[0;34m)\u001b[0m\u001b[0;34m)\u001b[0m\u001b[0;34m\u001b[0m\u001b[0m\n\u001b[1;32m     21\u001b[0m         \u001b[0mmin_array\u001b[0m\u001b[0;34m.\u001b[0m\u001b[0mappend\u001b[0m\u001b[0;34m(\u001b[0m\u001b[0mgua\u001b[0m\u001b[0;34m.\u001b[0m\u001b[0mcompute_statistic\u001b[0m\u001b[0;34m(\u001b[0m\u001b[0;34m'minimum'\u001b[0m\u001b[0;34m,\u001b[0m \u001b[0mdc\u001b[0m\u001b[0;34m[\u001b[0m\u001b[0mi\u001b[0m\u001b[0;34m]\u001b[0m\u001b[0;34m.\u001b[0m\u001b[0mcomponents\u001b[0m\u001b[0;34m[\u001b[0m\u001b[0mj\u001b[0m\u001b[0;34m]\u001b[0m\u001b[0;34m,\u001b[0m \u001b[0mmask\u001b[0m\u001b[0;34m=\u001b[0m\u001b[0;32mNone\u001b[0m\u001b[0;34m,\u001b[0m \u001b[0maxis\u001b[0m\u001b[0;34m=\u001b[0m\u001b[0;32mNone\u001b[0m\u001b[0;34m,\u001b[0m \u001b[0mfinite\u001b[0m\u001b[0;34m=\u001b[0m\u001b[0;32mTrue\u001b[0m\u001b[0;34m)\u001b[0m\u001b[0;34m)\u001b[0m\u001b[0;34m\u001b[0m\u001b[0m\n",
      "\u001b[0;32m~/anaconda/envs/glueviz-dev/lib/python3.6/site-packages/glue/utils/array.py\u001b[0m in \u001b[0;36mcompute_statistic\u001b[0;34m(statistic, data, mask, axis, finite, positive, percentile)\u001b[0m\n\u001b[1;32m    453\u001b[0m \u001b[0;34m\u001b[0m\u001b[0m\n\u001b[1;32m    454\u001b[0m         \u001b[0;32mif\u001b[0m \u001b[0mfinite\u001b[0m\u001b[0;34m:\u001b[0m\u001b[0;34m\u001b[0m\u001b[0m\n\u001b[0;32m--> 455\u001b[0;31m             \u001b[0mkeep\u001b[0m \u001b[0;34m&=\u001b[0m \u001b[0mnp\u001b[0m\u001b[0;34m.\u001b[0m\u001b[0misfinite\u001b[0m\u001b[0;34m(\u001b[0m\u001b[0mdata\u001b[0m\u001b[0;34m)\u001b[0m\u001b[0;34m\u001b[0m\u001b[0m\n\u001b[0m\u001b[1;32m    456\u001b[0m \u001b[0;34m\u001b[0m\u001b[0m\n\u001b[1;32m    457\u001b[0m         \u001b[0;32mif\u001b[0m \u001b[0mpositive\u001b[0m\u001b[0;34m:\u001b[0m\u001b[0;34m\u001b[0m\u001b[0m\n",
      "\u001b[0;31mTypeError\u001b[0m: ufunc 'isfinite' not supported for the input types, and the inputs could not be safely coerced to any supported types according to the casting rule ''safe''"
     ]
    }
   ],
   "source": [
    "# Modifying the above code to use compute_statistic to avoid accessing arrays of data directly\n",
    "\n",
    "mean_array = []\n",
    "median_array = []\n",
    "min_array = []\n",
    "max_array = []\n",
    "sum_array = []\n",
    "name_array = []\n",
    "tables = []\n",
    "headings = ('component','mean', 'median', 'minimum', 'maximum', 'sum')\n",
    "\n",
    "for i in range (0, len(dc)):\n",
    "    print(dc[i].label)\n",
    "    print()\n",
    "    for j in range (0, len(dc[i].components)):\n",
    "        name = dc[i].components[j].label # Get the name of each component\n",
    "#         array = dc[i][name] # Access the data using the name\n",
    "        name_array.append(name) # add to the name array to build the table\n",
    "        mean_array.append(gua.compute_statistic('mean', dc[i].components[j], mask=None, axis=None, finite=True))\n",
    "        median_array.append(gua.compute_statistic('median', dc[i].components[j], mask=None, axis=None, finite=True))        \n",
    "        min_array.append(gua.compute_statistic('minimum', dc[i].components[j], mask=None, axis=None, finite=True))        \n",
    "        max_array.append(gua.compute_statistic('maximum', dc[i].components[j], mask=None, axis=None, finite=True))        \n",
    "        sum_array.append(gua.compute_statistic('sum', dc[i].components[j], mask=None, axis=None, finite=True))  \n",
    "        \n",
    "        \n",
    "#         median_array.append(gua.nanmedian(array))\n",
    "#         min_array.append(gua.nanmin(array))\n",
    "#         max_array.append(gua.nanmax(array))\n",
    "\n",
    "#         print(dc[i].components[j], gua.nanmean(array), gua.nanmedian(array), gua.nanmin(array), gua.nanmax(array))\n",
    "        t = Table([name_array, mean_array, median_array, min_array, max_array, sum_array], names = headings)\n",
    "   \n",
    "    # Save all the tables in an array for display in the popup\n",
    "    tables.append(t)\n",
    "    mean_array = [] # Clear the arrays\n",
    "    median_array = []\n",
    "    min_array = []\n",
    "    max_array = []\n",
    "    name_array = []\n",
    "    sum_array = []\n",
    "    print(t)\n",
    "    print()\n",
    "    \n",
    "# print(tables)"
   ]
  },
  {
   "cell_type": "code",
   "execution_count": 7,
   "metadata": {},
   "outputs": [],
   "source": [
    "import glue.utils.array as gua"
   ]
  },
  {
   "cell_type": "code",
   "execution_count": 20,
   "metadata": {},
   "outputs": [
    {
     "ename": "TypeError",
     "evalue": "ufunc 'isfinite' not supported for the input types, and the inputs could not be safely coerced to any supported types according to the casting rule ''safe''",
     "output_type": "error",
     "traceback": [
      "\u001b[0;31m---------------------------------------------------------------------------\u001b[0m",
      "\u001b[0;31mTypeError\u001b[0m                                 Traceback (most recent call last)",
      "\u001b[0;32m<ipython-input-20-7fdd74e2b37b>\u001b[0m in \u001b[0;36m<module>\u001b[0;34m()\u001b[0m\n\u001b[0;32m----> 1\u001b[0;31m \u001b[0mgua\u001b[0m\u001b[0;34m.\u001b[0m\u001b[0mcompute_statistic\u001b[0m\u001b[0;34m(\u001b[0m\u001b[0;34m'mean'\u001b[0m\u001b[0;34m,\u001b[0m \u001b[0mdc\u001b[0m\u001b[0;34m[\u001b[0m\u001b[0;36m0\u001b[0m\u001b[0;34m]\u001b[0m\u001b[0;34m.\u001b[0m\u001b[0mcomponents\u001b[0m\u001b[0;34m[\u001b[0m\u001b[0;36m0\u001b[0m\u001b[0;34m]\u001b[0m\u001b[0;34m)\u001b[0m\u001b[0;34m\u001b[0m\u001b[0m\n\u001b[0m",
      "\u001b[0;32m~/anaconda/envs/glueviz-dev/lib/python3.6/site-packages/glue/utils/array.py\u001b[0m in \u001b[0;36mcompute_statistic\u001b[0;34m(statistic, data, mask, axis, finite, positive, percentile)\u001b[0m\n\u001b[1;32m    453\u001b[0m \u001b[0;34m\u001b[0m\u001b[0m\n\u001b[1;32m    454\u001b[0m         \u001b[0;32mif\u001b[0m \u001b[0mfinite\u001b[0m\u001b[0;34m:\u001b[0m\u001b[0;34m\u001b[0m\u001b[0m\n\u001b[0;32m--> 455\u001b[0;31m             \u001b[0mkeep\u001b[0m \u001b[0;34m&=\u001b[0m \u001b[0mnp\u001b[0m\u001b[0;34m.\u001b[0m\u001b[0misfinite\u001b[0m\u001b[0;34m(\u001b[0m\u001b[0mdata\u001b[0m\u001b[0;34m)\u001b[0m\u001b[0;34m\u001b[0m\u001b[0m\n\u001b[0m\u001b[1;32m    456\u001b[0m \u001b[0;34m\u001b[0m\u001b[0m\n\u001b[1;32m    457\u001b[0m         \u001b[0;32mif\u001b[0m \u001b[0mpositive\u001b[0m\u001b[0;34m:\u001b[0m\u001b[0;34m\u001b[0m\u001b[0m\n",
      "\u001b[0;31mTypeError\u001b[0m: ufunc 'isfinite' not supported for the input types, and the inputs could not be safely coerced to any supported types according to the casting rule ''safe''"
     ]
    }
   ],
   "source": [
    "# Test statement for compute_statistic\n",
    "\n",
    "gua.compute_statistic('mean', np.asdc[0].components[0])"
   ]
  },
  {
   "cell_type": "code",
   "execution_count": 21,
   "metadata": {},
   "outputs": [],
   "source": [
    "method_list = [func for func in dir(glue.utils.array) if callable(getattr(glue.utils.array, func))]"
   ]
  },
  {
   "cell_type": "code",
   "execution_count": 22,
   "metadata": {},
   "outputs": [
    {
     "data": {
      "text/plain": [
       "['_move_tuple_axes_first',\n",
       " 'as_strided',\n",
       " 'broadcast_to',\n",
       " 'check_sorted',\n",
       " 'coerce_numeric',\n",
       " 'combine_slices',\n",
       " 'compute_statistic',\n",
       " 'find_chunk_shape',\n",
       " 'format_minimal',\n",
       " 'iterate_chunks',\n",
       " 'nanmax',\n",
       " 'nanmean',\n",
       " 'nanmedian',\n",
       " 'nanmin',\n",
       " 'nansum',\n",
       " 'pretty_number',\n",
       " 'range',\n",
       " 'shape_to_string',\n",
       " 'stack_view',\n",
       " 'unbroadcast',\n",
       " 'unique',\n",
       " 'view_shape']"
      ]
     },
     "execution_count": 22,
     "metadata": {},
     "output_type": "execute_result"
    }
   ],
   "source": [
    "method_list"
   ]
  },
  {
   "cell_type": "code",
   "execution_count": 23,
   "metadata": {},
   "outputs": [],
   "source": [
    "import glue.core.data"
   ]
  },
  {
   "cell_type": "code",
   "execution_count": 24,
   "metadata": {},
   "outputs": [],
   "source": [
    "method_list2 = [func for func in dir(glue.core.data) if callable(getattr(glue.core.data, func))]"
   ]
  },
  {
   "cell_type": "code",
   "execution_count": 25,
   "metadata": {},
   "outputs": [
    {
     "data": {
      "text/plain": [
       "['Component',\n",
       " 'ComponentID',\n",
       " 'ComponentIDDict',\n",
       " 'ComponentIDList',\n",
       " 'ComponentLink',\n",
       " 'ComponentReplacedMessage',\n",
       " 'ComponentsChangedMessage',\n",
       " 'CoordinateComponent',\n",
       " 'CoordinateComponentLink',\n",
       " 'Coordinates',\n",
       " 'Data',\n",
       " 'DataAddComponentMessage',\n",
       " 'DataRemoveComponentMessage',\n",
       " 'DataReorderComponentMessage',\n",
       " 'DataUpdateMessage',\n",
       " 'DerivedComponent',\n",
       " 'ExternallyDerivableComponentsChangedMessage',\n",
       " 'Hub',\n",
       " 'IncompatibleAttribute',\n",
       " 'NumericalDataChangedMessage',\n",
       " 'OrderedDict',\n",
       " 'PixelAlignedDataChangedMessage',\n",
       " 'PixelComponentID',\n",
       " 'SliceSubsetState',\n",
       " 'Subset',\n",
       " 'SubsetCreateMessage',\n",
       " 'SubsetState',\n",
       " 'VisualAttributes',\n",
       " 'broadcast_to',\n",
       " 'clear_cache',\n",
       " 'compute_statistic',\n",
       " 'contract',\n",
       " 'datetime64_to_mpl',\n",
       " 'iterate_chunks',\n",
       " 'pixel_label',\n",
       " 'settings',\n",
       " 'split_component_view',\n",
       " 'unbroadcast']"
      ]
     },
     "execution_count": 25,
     "metadata": {},
     "output_type": "execute_result"
    }
   ],
   "source": [
    "method_list2"
   ]
  },
  {
   "cell_type": "code",
   "execution_count": 26,
   "metadata": {},
   "outputs": [],
   "source": [
    "from glue.core.data import Data"
   ]
  },
  {
   "cell_type": "code",
   "execution_count": 27,
   "metadata": {},
   "outputs": [
    {
     "data": {
      "text/plain": [
       "15.4"
      ]
     },
     "execution_count": 27,
     "metadata": {},
     "output_type": "execute_result"
    }
   ],
   "source": [
    "# compute_statistic is working\n",
    "\n",
    "gua.compute_statistic('mean', [1,2,3,5,66])"
   ]
  },
  {
   "cell_type": "code",
   "execution_count": 56,
   "metadata": {
    "collapsed": true
   },
   "outputs": [],
   "source": [
    "# Pop up window\n",
    "\n",
    "LARGE_FONT= (\"Verdana\", 12)\n",
    "NORM_FONT = (\"Helvetica\", 10)\n",
    "SMALL_FONT = (\"Helvetica\", 8)\n",
    "\n",
    "import tkinter as tk\n",
    "from tkinter import ttk"
   ]
  },
  {
   "cell_type": "code",
   "execution_count": 71,
   "metadata": {},
   "outputs": [],
   "source": [
    "# Creates a popup window with the statistical information\n",
    "# Does not preserve the lined-up formatting of the astropy tables- to do\n",
    "\n",
    "import tkinter as tk\n",
    "\n",
    "num_cols = len(headings)\n",
    "width = num_cols * 150\n",
    "\n",
    "class Application(tk.Frame):\n",
    "    def __init__(self, master=None):\n",
    "        super().__init__(master)\n",
    "        self.pack()\n",
    "        self.create_widgets()\n",
    "\n",
    "    def create_widgets(self):\n",
    "        self.hi_there = tk.Button(self)\n",
    "        w = tk.Message(self, text=tables, width=width)\n",
    "        w.pack()\n",
    "#         self.hi_there[\"text\"] = \"Two houses both alike in dignity in fair verona where we lay our scene\"\n",
    "#         self.hi_there.pack(side=\"top\")\n",
    "\n",
    "        self.quit = tk.Button(self, text=\"Done\", fg=\"red\",\n",
    "                              command=root.destroy)\n",
    "        self.quit.pack(side=\"bottom\")\n",
    "\n",
    "root = tk.Tk()\n",
    "root.geometry(\"400x400\")\n",
    "# root.geometry(\"500x100+300+300\")\n",
    "app = Application(master=root)\n",
    "app.mainloop()"
   ]
  },
  {
   "cell_type": "code",
   "execution_count": null,
   "metadata": {},
   "outputs": [],
   "source": []
  },
  {
   "cell_type": "code",
   "execution_count": null,
   "metadata": {},
   "outputs": [],
   "source": [
    "\n"
   ]
  },
  {
   "cell_type": "code",
   "execution_count": null,
   "metadata": {
    "collapsed": true
   },
   "outputs": [],
   "source": []
  }
 ],
 "metadata": {
  "kernelspec": {
   "display_name": "Python 3",
   "language": "python",
   "name": "python3"
  },
  "language_info": {
   "codemirror_mode": {
    "name": "ipython",
    "version": 3
   },
   "file_extension": ".py",
   "mimetype": "text/x-python",
   "name": "python",
   "nbconvert_exporter": "python",
   "pygments_lexer": "ipython3",
   "version": "3.6.5"
  }
 },
 "nbformat": 4,
 "nbformat_minor": 2
}
