{
 "cells": [
  {
   "cell_type": "code",
   "execution_count": 1,
   "metadata": {},
   "outputs": [],
   "source": [
    "# Laura Chapman\n",
    "# Script for developing statistical tools for Glue\n",
    "# Computes statistics for subsets as well as entire data using compute_statistic\n",
    "# Changed from astropy tables to pandas dataframe\n",
    "\n",
    "# Format data well in a popup using qt\n",
    "# Color code by subset"
   ]
  },
  {
   "cell_type": "code",
   "execution_count": 1,
   "metadata": {},
   "outputs": [
    {
     "name": "stderr",
     "output_type": "stream",
     "text": [
      "WARNING: W03: w5_psc.vot:11:0: W03: Implicitly generating an ID from a name 'J/ApJ/688/1142/table2' -> 'J_ApJ_688_1142_table2' [astropy.io.votable.xmlutil]\n",
      "WARNING:astropy:W03: w5_psc.vot:11:0: W03: Implicitly generating an ID from a name 'J/ApJ/688/1142/table2' -> 'J_ApJ_688_1142_table2'\n",
      "WARNING: W03: w5_psc.vot:17:0: W03: Implicitly generating an ID from a name '-ref' -> '_-ref' [astropy.io.votable.xmlutil]\n",
      "WARNING:astropy:W03: w5_psc.vot:17:0: W03: Implicitly generating an ID from a name '-ref' -> '_-ref'\n",
      "WARNING: W03: w5_psc.vot:18:0: W03: Implicitly generating an ID from a name '-out.max' -> '_-out.max' [astropy.io.votable.xmlutil]\n",
      "WARNING:astropy:W03: w5_psc.vot:18:0: W03: Implicitly generating an ID from a name '-out.max' -> '_-out.max'\n",
      "WARNING: W03: w5_psc.vot:63:0: W03: Implicitly generating an ID from a name '[3.6]' -> '__3.6_' [astropy.io.votable.xmlutil]\n",
      "WARNING:astropy:W03: w5_psc.vot:63:0: W03: Implicitly generating an ID from a name '[3.6]' -> '__3.6_'\n",
      "WARNING: W03: w5_psc.vot:66:0: W03: Implicitly generating an ID from a name '[4.5]' -> '__4.5_' [astropy.io.votable.xmlutil]\n",
      "WARNING:astropy:W03: w5_psc.vot:66:0: W03: Implicitly generating an ID from a name '[4.5]' -> '__4.5_'\n",
      "WARNING: W03: w5_psc.vot:69:0: W03: Implicitly generating an ID from a name '[5.8]' -> '__5.8_' [astropy.io.votable.xmlutil]\n",
      "WARNING:astropy:W03: w5_psc.vot:69:0: W03: Implicitly generating an ID from a name '[5.8]' -> '__5.8_'\n",
      "WARNING: W03: w5_psc.vot:72:0: W03: Implicitly generating an ID from a name '[8.0]' -> '__8.0_' [astropy.io.votable.xmlutil]\n",
      "WARNING:astropy:W03: w5_psc.vot:72:0: W03: Implicitly generating an ID from a name '[8.0]' -> '__8.0_'\n",
      "WARNING: W03: w5_psc.vot:75:0: W03: Implicitly generating an ID from a name '[24]' -> '__24_' [astropy.io.votable.xmlutil]\n",
      "WARNING:astropy:W03: w5_psc.vot:75:0: W03: Implicitly generating an ID from a name '[24]' -> '__24_'\n",
      "WARNING: W03: w5_psc.vot:81:0: W03: Implicitly generating an ID from a name '[4.5] - [5.8]' -> '__4.5__-__5.8_' [astropy.io.votable.xmlutil]\n",
      "WARNING:astropy:W03: w5_psc.vot:81:0: W03: Implicitly generating an ID from a name '[4.5] - [5.8]' -> '__4.5__-__5.8_'\n",
      "WARNING: W03: w5_psc.vot:84:0: W03: Implicitly generating an ID from a name '[5.8] - [8.0]' -> '__5.8__-__8.0_' (suppressing further warnings of this type...) [astropy.io.votable.xmlutil]\n",
      "WARNING:astropy:W03: w5_psc.vot:84:0: W03: Implicitly generating an ID from a name '[5.8] - [8.0]' -> '__5.8__-__8.0_' (suppressing further warnings of this type...)\n"
     ]
    }
   ],
   "source": [
    "# Basic code that imports glue and loads in and links the data\n",
    "\n",
    "import sys\n",
    "from glue.core.data_factories import load_data\n",
    "from glue.core import DataCollection\n",
    "from glue.core.link_helpers import LinkSame\n",
    "from glue.app.qt.application import GlueApplication\n",
    "from glue.viewers.image.qt import ImageViewer\n",
    "from glue_vispy_viewers.volume.volume_viewer import VispyVolumeViewer\n",
    "\n",
    "image_filename='w5.fits'\n",
    "catalog_filename='w5_psc.vot'\n",
    "\n",
    "#load 2 datasets from files\n",
    "catalog = load_data(catalog_filename)\n",
    "image = load_data(image_filename)\n",
    "\n",
    "dc = DataCollection([catalog,image])\n",
    "\n",
    "# link positional information\n",
    "dc.add_link(LinkSame(catalog.id['RAJ2000'], image.id['Right Ascension']))\n",
    "dc.add_link(LinkSame(catalog.id['DEJ2000'], image.id['Declination']))\n",
    "\n",
    "#Create subset based on filament mask\n",
    "ra_state=(image.id['Right Ascension'] > 44) & (image.id['Right Ascension'] < 46)\n",
    "subset_group=dc.new_subset_group('RA_Selection',ra_state)\n",
    "subset_group.style.color = '#0000FF'\n",
    "\n",
    "#start Glue\n",
    "# app = GlueApplication(dc)\n",
    "\n",
    "# imageviewer = app.new_data_viewer(ImageViewer)\n",
    "# imageviewer.add_data(image)\n",
    "\n",
    "# app.start()\n",
    "\n"
   ]
  },
  {
   "cell_type": "code",
   "execution_count": 2,
   "metadata": {},
   "outputs": [],
   "source": [
    "import glue.utils.array as gua\n",
    "import glue.core.data as gcd\n",
    "from astropy.table import Table"
   ]
  },
  {
   "cell_type": "code",
   "execution_count": 3,
   "metadata": {},
   "outputs": [],
   "source": [
    "# Constructs a pandas DataFrame instead of an astropy table\n",
    "\n",
    "import pandas as pd\n",
    "from pandas import DataFrame\n",
    "import numpy as np"
   ]
  },
  {
   "cell_type": "code",
   "execution_count": 4,
   "metadata": {},
   "outputs": [
    {
     "name": "stdout",
     "output_type": "stream",
     "text": [
      "w5_psc subset1\n",
      "\n"
     ]
    }
   ],
   "source": [
    "# Defines a subset and runs statistics using compute_statistic for the subset\n",
    "# Saves data using a pandas dataframe called my_pandas_data\n",
    "\n",
    "# Data that subset is pulled from\n",
    "data = dc[0]\n",
    "\n",
    "# Define state and subset\n",
    "state1 = data.id['Jmag'] > 14\n",
    "subset1 = data.new_subset(state1, label='Jmag > 14')\n",
    "\n",
    "# Same arrays as with full data\n",
    "mean_array = []\n",
    "median_array = []\n",
    "min_array = []\n",
    "max_array = []\n",
    "sum_array = []\n",
    "name_array = []\n",
    "tables = []\n",
    "\n",
    "headings = ('mean', 'median', 'minimum', 'maximum', 'sum')\n",
    "\n",
    "print(data.label, 'subset1')\n",
    "print() \n",
    "for j in range (0, len(data.components)):\n",
    "    name = data.components[j].label # Get the name of each component\n",
    "    name_array.append(name) # add to the name array to build the table\n",
    "    mean_array.append(data.compute_statistic('mean', subset1.components[j], subset_state=subset1.subset_state))\n",
    "    median_array.append(data.compute_statistic('median', subset1.components[j], subset_state=subset1.subset_state))       \n",
    "    min_array.append(data.compute_statistic('minimum', subset1.components[j], subset_state=subset1.subset_state))       \n",
    "    max_array.append(data.compute_statistic('maximum', subset1.components[j], subset_state=subset1.subset_state))      \n",
    "    sum_array.append(data.compute_statistic('sum', subset1.components[j], subset_state=subset1.subset_state))        \n",
    "   \n",
    "column_data = np.asarray([mean_array, median_array, min_array, max_array, sum_array]).transpose()\n",
    "\n",
    "my_pandas_data = pd.DataFrame(column_data, index=name_array, columns=headings)"
   ]
  },
  {
   "cell_type": "code",
   "execution_count": 24,
   "metadata": {},
   "outputs": [
    {
     "data": {
      "text/plain": [
       "glue.core.data.Data"
      ]
     },
     "execution_count": 24,
     "metadata": {},
     "output_type": "execute_result"
    }
   ],
   "source": [
    "type(dc[0])"
   ]
  },
  {
   "cell_type": "code",
   "execution_count": 22,
   "metadata": {},
   "outputs": [],
   "source": [
    "array1 = [1,3,5,6]\n",
    "array2 = [4,5,6,6]\n",
    "array3 = [6,7,8,9]\n",
    "\n",
    "colnames = ['array1', 'array2', 'array3']\n",
    "rownames = ['col1', 'col2', 'col3', 'col4']\n",
    "\n",
    "data = np.asarray([array1, array2, array3]).transpose()\n",
    "\n",
    "pandas_data = pd.DataFrame(data, index=names, columns=heads)"
   ]
  },
  {
   "cell_type": "code",
   "execution_count": 32,
   "metadata": {},
   "outputs": [
    {
     "name": "stdout",
     "output_type": "stream",
     "text": [
      "QApplication instance already exists: <PyQt5.QtWidgets.QApplication object at 0x1513880ca8>\n"
     ]
    },
    {
     "ename": "SystemExit",
     "evalue": "0",
     "output_type": "error",
     "traceback": [
      "An exception has occurred, use %tb to see the full traceback.\n",
      "\u001b[0;31mSystemExit\u001b[0m\u001b[0;31m:\u001b[0m 0\n"
     ]
    },
    {
     "name": "stderr",
     "output_type": "stream",
     "text": [
      "/Users/laurachapman/anaconda/envs/glueviz-dev/lib/python3.6/site-packages/IPython/core/interactiveshell.py:2971: UserWarning: To exit: use 'exit', 'quit', or Ctrl-D.\n",
      "  warn(\"To exit: use 'exit', 'quit', or Ctrl-D.\", stacklevel=1)\n"
     ]
    }
   ],
   "source": [
    "# Full working example! \n",
    "# Has a dropdown menu with the components- highlights the row of the component selected\n",
    "# Still need to figure out how to resize window to fit the contents\n",
    "# Merged into one class and takes in a data object as a parameter\n",
    "\n",
    "import sys\n",
    "from PyQt5 import QtCore, QtWidgets\n",
    "Qt = QtCore.Qt\n",
    "from PyQt5.QtCore import QVariant\n",
    "from qtpy.QtWidgets import (QApplication, QLabel, QWidget, QComboBox,\n",
    "                            QVBoxLayout, QPushButton, QGridLayout, QTableView) \n",
    "\n",
    "class stat_widget(QWidget):\n",
    "    def __init__(self, core_data, parent = None):\n",
    "        super(stat_widget, self).__init__(parent)\n",
    "        self.view = QtCore.QAbstractTableModel.__init__(self, parent)\n",
    "        self.core = core_data       \n",
    "      \n",
    "        mean_array = []\n",
    "        median_array = []\n",
    "        min_array = []\n",
    "        max_array = []\n",
    "        sum_array = []\n",
    "        name_array = []\n",
    "        headings = ('mean', 'median', 'minimum', 'maximum', 'sum')\n",
    "\n",
    "        for j in range(0, len(self.core.components)):\n",
    "            name = self.core.components[j].label # Get the name of each component\n",
    "            name_array.append(name) # add to the name array to build the table\n",
    "            mean_array.append(self.core.compute_statistic('mean', self.core.components[j]))\n",
    "            median_array.append(self.core.compute_statistic('median', self.core.components[j]))       \n",
    "            min_array.append(self.core.compute_statistic('minimum', self.core.components[j]))       \n",
    "            max_array.append(self.core.compute_statistic('maximum', self.core.components[j]))      \n",
    "            sum_array.append(self.core.compute_statistic('sum', self.core.components[j]))         \n",
    "\n",
    "            # At this point we have several column arrays to put into a pandas data frame\n",
    "    \n",
    "        column_data = np.asarray([mean_array, median_array, min_array, max_array, sum_array]).transpose()\n",
    "\n",
    "        self.data_frame = pd.DataFrame(column_data, index=name_array, columns=headings)         \n",
    "        \n",
    "        layout = QVBoxLayout()\n",
    "        self.cb = QComboBox()\n",
    "    \n",
    "        for i in range(0, len(self.data_frame.index)):\n",
    "            self.cb.addItem(self.data_frame.index[i])\n",
    "        \n",
    "        self.cb.currentIndexChanged.connect(self.selectionchange)\n",
    "    \n",
    "        layout.addWidget(self.cb)  \n",
    "    \n",
    "        self.view = QTableView()\n",
    "        \n",
    "        # Why does this line work? \n",
    "        model = PandasModel(self.data_frame)\n",
    "        self.view.setModel(model)\n",
    "        self.view.setShowGrid(False)\n",
    "\n",
    "        layout.addWidget(self.view) \n",
    "\n",
    "        self.setLayout(layout)\n",
    "        self.setWindowTitle(\"Statistics\")          \n",
    "        \n",
    "    def rowCount(self, parent=None):\n",
    "        return len(self.data_frame.values)\n",
    "\n",
    "    def columnCount(self, parent=None):\n",
    "        return self.data_frame.columns.size\n",
    "\n",
    "    def data(self, index, role=Qt.DisplayRole):\n",
    "        if index.isValid():\n",
    "            if role == Qt.DisplayRole:\n",
    "                return QVariant(str(\n",
    "                    self.data_frame.values[index.row()][index.column()]))\n",
    "        return QVariant()\n",
    "    \n",
    "    def headerData(self, col, orientation, role):\n",
    "        if orientation == Qt.Horizontal and role == Qt.DisplayRole:\n",
    "            return QVariant(self.data_frame.columns[col])\n",
    "        if orientation == Qt.Vertical and role == Qt.DisplayRole:\n",
    "            return QVariant(self.data_frame.index[col])\n",
    "        return QVariant()          \n",
    "        \n",
    "    def selectionchange(self,i):\n",
    "        print (\"Current index\",i,\"selection changed to\",self.cb.currentText())\n",
    "        self.view.selectRow(i)\n",
    "\n",
    "app = QApplication.instance()\n",
    "if app is None:\n",
    "    app = QApplication(sys.argv)\n",
    "else:\n",
    "    print('QApplication instance already exists: %s' % str(app))\n",
    "    \n",
    "ex = stat_widget(dc[0])\n",
    "ex.show()\n",
    "sys.exit(app.exec_())"
   ]
  },
  {
   "cell_type": "code",
   "execution_count": null,
   "metadata": {},
   "outputs": [],
   "source": []
  }
 ],
 "metadata": {
  "kernelspec": {
   "display_name": "Python 3",
   "language": "python",
   "name": "python3"
  },
  "language_info": {
   "codemirror_mode": {
    "name": "ipython",
    "version": 3
   },
   "file_extension": ".py",
   "mimetype": "text/x-python",
   "name": "python",
   "nbconvert_exporter": "python",
   "pygments_lexer": "ipython3",
   "version": "3.6.5"
  }
 },
 "nbformat": 4,
 "nbformat_minor": 2
}
