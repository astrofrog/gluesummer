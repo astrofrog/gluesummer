{
 "cells": [
  {
   "cell_type": "code",
   "execution_count": 1,
   "metadata": {},
   "outputs": [],
   "source": [
    "# Laura Chapman\n",
    "# Script for developing statistical tools for Glue\n",
    "# Computes statistics for subsets as well as entire data using compute_statistic\n",
    "# Changed from astropy tables to pandas dataframe\n",
    "\n",
    "# Format data well in a popup using qt\n",
    "# Color code by subset"
   ]
  },
  {
   "cell_type": "code",
   "execution_count": 2,
   "metadata": {},
   "outputs": [
    {
     "name": "stderr",
     "output_type": "stream",
     "text": [
      "WARNING: W03: w5_psc.vot:11:0: W03: Implicitly generating an ID from a name 'J/ApJ/688/1142/table2' -> 'J_ApJ_688_1142_table2' [astropy.io.votable.xmlutil]\n",
      "WARNING:astropy:W03: w5_psc.vot:11:0: W03: Implicitly generating an ID from a name 'J/ApJ/688/1142/table2' -> 'J_ApJ_688_1142_table2'\n",
      "WARNING: W03: w5_psc.vot:17:0: W03: Implicitly generating an ID from a name '-ref' -> '_-ref' [astropy.io.votable.xmlutil]\n",
      "WARNING:astropy:W03: w5_psc.vot:17:0: W03: Implicitly generating an ID from a name '-ref' -> '_-ref'\n",
      "WARNING: W03: w5_psc.vot:18:0: W03: Implicitly generating an ID from a name '-out.max' -> '_-out.max' [astropy.io.votable.xmlutil]\n",
      "WARNING:astropy:W03: w5_psc.vot:18:0: W03: Implicitly generating an ID from a name '-out.max' -> '_-out.max'\n",
      "WARNING: W03: w5_psc.vot:63:0: W03: Implicitly generating an ID from a name '[3.6]' -> '__3.6_' [astropy.io.votable.xmlutil]\n",
      "WARNING:astropy:W03: w5_psc.vot:63:0: W03: Implicitly generating an ID from a name '[3.6]' -> '__3.6_'\n",
      "WARNING: W03: w5_psc.vot:66:0: W03: Implicitly generating an ID from a name '[4.5]' -> '__4.5_' [astropy.io.votable.xmlutil]\n",
      "WARNING:astropy:W03: w5_psc.vot:66:0: W03: Implicitly generating an ID from a name '[4.5]' -> '__4.5_'\n",
      "WARNING: W03: w5_psc.vot:69:0: W03: Implicitly generating an ID from a name '[5.8]' -> '__5.8_' [astropy.io.votable.xmlutil]\n",
      "WARNING:astropy:W03: w5_psc.vot:69:0: W03: Implicitly generating an ID from a name '[5.8]' -> '__5.8_'\n",
      "WARNING: W03: w5_psc.vot:72:0: W03: Implicitly generating an ID from a name '[8.0]' -> '__8.0_' [astropy.io.votable.xmlutil]\n",
      "WARNING:astropy:W03: w5_psc.vot:72:0: W03: Implicitly generating an ID from a name '[8.0]' -> '__8.0_'\n",
      "WARNING: W03: w5_psc.vot:75:0: W03: Implicitly generating an ID from a name '[24]' -> '__24_' [astropy.io.votable.xmlutil]\n",
      "WARNING:astropy:W03: w5_psc.vot:75:0: W03: Implicitly generating an ID from a name '[24]' -> '__24_'\n",
      "WARNING: W03: w5_psc.vot:81:0: W03: Implicitly generating an ID from a name '[4.5] - [5.8]' -> '__4.5__-__5.8_' [astropy.io.votable.xmlutil]\n",
      "WARNING:astropy:W03: w5_psc.vot:81:0: W03: Implicitly generating an ID from a name '[4.5] - [5.8]' -> '__4.5__-__5.8_'\n",
      "WARNING: W03: w5_psc.vot:84:0: W03: Implicitly generating an ID from a name '[5.8] - [8.0]' -> '__5.8__-__8.0_' (suppressing further warnings of this type...) [astropy.io.votable.xmlutil]\n",
      "WARNING:astropy:W03: w5_psc.vot:84:0: W03: Implicitly generating an ID from a name '[5.8] - [8.0]' -> '__5.8__-__8.0_' (suppressing further warnings of this type...)\n"
     ]
    }
   ],
   "source": [
    "# Basic code that imports glue and loads in and links the data\n",
    "\n",
    "import sys\n",
    "from glue.core.data_factories import load_data\n",
    "from glue.core import DataCollection\n",
    "from glue.core.link_helpers import LinkSame\n",
    "from glue.app.qt.application import GlueApplication\n",
    "from glue.viewers.image.qt import ImageViewer\n",
    "from glue_vispy_viewers.volume.volume_viewer import VispyVolumeViewer\n",
    "\n",
    "image_filename='w5.fits'\n",
    "catalog_filename='w5_psc.vot'\n",
    "\n",
    "#load 2 datasets from files\n",
    "catalog = load_data(catalog_filename)\n",
    "image = load_data(image_filename)\n",
    "\n",
    "dc = DataCollection([catalog,image])\n",
    "\n",
    "# link positional information\n",
    "dc.add_link(LinkSame(catalog.id['RAJ2000'], image.id['Right Ascension']))\n",
    "dc.add_link(LinkSame(catalog.id['DEJ2000'], image.id['Declination']))\n",
    "\n",
    "#Create subset based on filament mask\n",
    "ra_state=(image.id['Right Ascension'] > 44) & (image.id['Right Ascension'] < 46)\n",
    "subset_group=dc.new_subset_group('RA_Selection',ra_state)\n",
    "subset_group.style.color = '#0000FF'\n",
    "\n",
    "#start Glue\n",
    "# app = GlueApplication(dc)\n",
    "\n",
    "# imageviewer = app.new_data_viewer(ImageViewer)\n",
    "# imageviewer.add_data(image)\n",
    "\n",
    "# app.start()\n",
    "\n"
   ]
  },
  {
   "cell_type": "code",
   "execution_count": 3,
   "metadata": {},
   "outputs": [
    {
     "data": {
      "text/plain": [
       "[Pixel Axis 0 [x],\n",
       " World 0,\n",
       " ID,\n",
       " RAJ2000,\n",
       " DEJ2000,\n",
       " Jmag,\n",
       " Hmag,\n",
       " Ksmag,\n",
       " __3.6_,\n",
       " __4.5_,\n",
       " __5.8_,\n",
       " __8.0_,\n",
       " __24_,\n",
       " Type,\n",
       " __4.5__-__5.8_,\n",
       " __5.8__-__8.0_]"
      ]
     },
     "execution_count": 3,
     "metadata": {},
     "output_type": "execute_result"
    }
   ],
   "source": [
    "dc.data[0].label\n",
    "dc.data[0].components"
   ]
  },
  {
   "cell_type": "code",
   "execution_count": 4,
   "metadata": {},
   "outputs": [],
   "source": [
    "import glue.utils.array as gua\n",
    "import glue.core.data as gcd\n",
    "from astropy.table import Table"
   ]
  },
  {
   "cell_type": "code",
   "execution_count": 5,
   "metadata": {},
   "outputs": [],
   "source": [
    "# Constructs a pandas DataFrame instead of an astropy table\n",
    "\n",
    "import pandas as pd\n",
    "from pandas import DataFrame\n",
    "import numpy as np"
   ]
  },
  {
   "cell_type": "code",
   "execution_count": 6,
   "metadata": {},
   "outputs": [
    {
     "name": "stdout",
     "output_type": "stream",
     "text": [
      "w5_psc subset1\n",
      "\n"
     ]
    }
   ],
   "source": [
    "# Defines a subset and runs statistics using compute_statistic for the subset\n",
    "# Saves data using a pandas dataframe called my_pandas_data\n",
    "\n",
    "# Data that subset is pulled from\n",
    "data = dc[0]\n",
    "\n",
    "# Define state and subset\n",
    "state1 = data.id['Jmag'] > 14\n",
    "subset1 = data.new_subset(state1, label='Jmag > 14')\n",
    "\n",
    "# Same arrays as with full data\n",
    "mean_array = []\n",
    "median_array = []\n",
    "min_array = []\n",
    "max_array = []\n",
    "sum_array = []\n",
    "name_array = []\n",
    "tables = []\n",
    "\n",
    "headings = ('mean', 'median', 'minimum', 'maximum', 'sum')\n",
    "\n",
    "print(data.label, 'subset1')\n",
    "print() \n",
    "for j in range (0, len(data.components)):\n",
    "    name = data.components[j].label # Get the name of each component\n",
    "    name_array.append(name) # add to the name array to build the table\n",
    "    mean_array.append(data.compute_statistic('mean', subset1.components[j], subset_state=subset1.subset_state))\n",
    "    median_array.append(data.compute_statistic('median', subset1.components[j], subset_state=subset1.subset_state))       \n",
    "    min_array.append(data.compute_statistic('minimum', subset1.components[j], subset_state=subset1.subset_state))       \n",
    "    max_array.append(data.compute_statistic('maximum', subset1.components[j], subset_state=subset1.subset_state))      \n",
    "    sum_array.append(data.compute_statistic('sum', subset1.components[j], subset_state=subset1.subset_state))        \n",
    "   \n",
    "column_data = np.asarray([mean_array, median_array, min_array, max_array, sum_array]).transpose()\n",
    "\n",
    "my_pandas_data = pd.DataFrame(column_data, index=name_array, columns=headings)"
   ]
  },
  {
   "cell_type": "code",
   "execution_count": 7,
   "metadata": {},
   "outputs": [
    {
     "data": {
      "text/plain": [
       "glue.core.data.Data"
      ]
     },
     "execution_count": 7,
     "metadata": {},
     "output_type": "execute_result"
    }
   ],
   "source": [
    "type(dc[0])"
   ]
  },
  {
   "cell_type": "code",
   "execution_count": 8,
   "metadata": {},
   "outputs": [],
   "source": [
    "array1 = [1,3,5,6]\n",
    "array2 = [4,5,6,6]\n",
    "array3 = [6,7,8,9]\n",
    "\n",
    "colnames = ['array1', 'array2', 'array3']\n",
    "rownames = ['col1', 'col2', 'col3', 'col4']\n",
    "\n",
    "data = np.asarray([array1, array2, array3]).transpose()\n",
    "\n",
    "pandas_data = pd.DataFrame(data, index=rownames, columns=colnames)"
   ]
  },
  {
   "cell_type": "code",
   "execution_count": 117,
   "metadata": {},
   "outputs": [
    {
     "name": "stdout",
     "output_type": "stream",
     "text": [
      "QApplication instance already exists: <PyQt5.QtWidgets.QApplication object at 0x1511aaf798>\n",
      "running stats for  PRIMARY\n",
      "running stats for  Pixel Axis 0 [y]\n",
      "running stats for  Declination\n",
      "running stats for  Right Ascension\n",
      "running stats for  __5.8__-__8.0_\n",
      "running stats for  Pixel Axis 0 [x]\n",
      "running stats for  Jmag\n"
     ]
    },
    {
     "ename": "SystemExit",
     "evalue": "0",
     "output_type": "error",
     "traceback": [
      "An exception has occurred, use %tb to see the full traceback.\n",
      "\u001b[0;31mSystemExit\u001b[0m\u001b[0;31m:\u001b[0m 0\n"
     ]
    },
    {
     "name": "stderr",
     "output_type": "stream",
     "text": [
      "/Users/laurachapman/anaconda/envs/glueviz-dev/lib/python3.6/site-packages/IPython/core/interactiveshell.py:2971: UserWarning: To exit: use 'exit', 'quit', or Ctrl-D.\n",
      "  warn(\"To exit: use 'exit', 'quit', or Ctrl-D.\", stacklevel=1)\n"
     ]
    }
   ],
   "source": [
    "# Full working example! \n",
    "# Has a dropdown menu with the components- highlights the row of the component selected\n",
    "# Still need to figure out how to resize window to fit the contents\n",
    "# Merged into one class and takes in a data object as a parameter\n",
    "\n",
    "import sys\n",
    "from PyQt5 import QtCore, QtWidgets\n",
    "Qt = QtCore.Qt\n",
    "from PyQt5.QtCore import QVariant\n",
    "from qtpy.QtWidgets import (QApplication, QLabel, QWidget, QComboBox,\n",
    "                            QVBoxLayout, QPushButton, QGridLayout, QTableView) \n",
    "\n",
    "class stat_widget(QWidget):\n",
    "    def __init__(self, data_collection, parent = None):\n",
    "        super(stat_widget, self).__init__(parent)\n",
    "        self.view = QtCore.QAbstractTableModel.__init__(self, parent)\n",
    "        self.dc = data_collection  \n",
    "        \n",
    "        self.mean_array = []\n",
    "        self.median_array = []\n",
    "        self.min_array = []\n",
    "        self.max_array = []\n",
    "        self.sum_array = []\n",
    "        self.name_array = []\n",
    "        \n",
    "        self.layout = QVBoxLayout()\n",
    "        self.cb_data = QComboBox()\n",
    "        \n",
    "        for i in range(0, len(self.dc.data)):\n",
    "            self.cb_data.addItem(self.dc.data[i].label)\n",
    "        \n",
    "        self.cb_data.currentIndexChanged.connect(self.dataSelectionChange)\n",
    "    \n",
    "        self.layout.addWidget(self.cb_data)  \n",
    "        self.cb_components = QComboBox()\n",
    "        # Ideally make this a default fill box\n",
    "        self.cb_components.addItem('Choose a component')  \n",
    "        self.cb_components.currentIndexChanged.connect(self.runStats)  \n",
    "        \n",
    "        self.layout.addWidget(self.cb_components)\n",
    "        \n",
    "#         self.add_row = QPushButton('Add a row')\n",
    "#         self.add_row.clicked.connect(self.addRow)\n",
    "#         self.layout.addWidget(self.add_row, 1,2)\n",
    "        self.view = QTableView()\n",
    "        self.layout.addWidget(self.view)\n",
    "\n",
    "        self.setLayout(self.layout)\n",
    "        self.setWindowTitle(\"Statistics\")          \n",
    "     \n",
    "    def runStats(self, i):\n",
    "        comp_i = i\n",
    "        print('running stats for ', self.dc[self.data_index].components[comp_i].label)\n",
    "        self.mean_array = []\n",
    "        self.median_array = []\n",
    "        self.min_array = []\n",
    "        self.max_array = []\n",
    "        self.sum_array = []\n",
    "        self.name_array = []\n",
    "        headings = ('mean', 'median', 'minimum', 'maximum', 'sum')\n",
    "\n",
    "#         for j in range(0, len(self.dc[self.data_index].components[i])):\n",
    "#             name = self.core.components[j].label # Get the name of each component\n",
    "#             name_array.append(name) # add to the name array to build the table\n",
    "#             mean_array.append(self.core.compute_statistic('mean', self.core.components[j]))\n",
    "#             median_array.append(self.core.compute_statistic('median', self.core.components[j]))       \n",
    "#             min_array.append(self.core.compute_statistic('minimum', self.core.components[j]))       \n",
    "#             max_array.append(self.core.compute_statistic('maximum', self.core.components[j]))      \n",
    "#             sum_array.append(self.core.compute_statistic('sum', self.core.components[j]))         \n",
    "        \n",
    "            # At this point we have several column arrays to put into a pandas data frame\n",
    "        name = dc[self.data_index].label + '--' + self.dc[self.data_index].components[comp_i].label\n",
    "        self.name_array.append(name) # add to the name array to build the table\n",
    "        self.mean_array.append(self.dc[self.data_index].compute_statistic('mean', self.dc[self.data_index].components[comp_i]))\n",
    "        self.median_array.append(self.dc[self.data_index].compute_statistic('median', self.dc[self.data_index].components[comp_i]))       \n",
    "        self.min_array.append(self.dc[self.data_index].compute_statistic('minimum', self.dc[self.data_index].components[comp_i]))      \n",
    "        self.max_array.append(self.dc[self.data_index].compute_statistic('maximum', self.dc[self.data_index].components[comp_i]))     \n",
    "        self.sum_array.append(self.dc[self.data_index].compute_statistic('sum', self.dc[self.data_index].components[comp_i]))            \n",
    "                       \n",
    "        column_data = np.asarray([self.mean_array, self.median_array, self.min_array, self.max_array, self.sum_array]).transpose()\n",
    "\n",
    "        self.data_frame = pd.DataFrame(column_data, index=self.name_array, columns=headings)             \n",
    "        model = pandasModel(self.data_frame)\n",
    "        \n",
    "#         self.layout.removeWidget(self.view)\n",
    "\n",
    "        self.view.setModel(model)\n",
    "        self.view.setShowGrid(False)\n",
    "\n",
    "        self.layout.addWidget(self.view)                                              \n",
    "        \n",
    "    def dataSelectionChange(self,i):\n",
    "        self.data_index = i  \n",
    "        self.cb_components.clear()\n",
    "        for j in range (0, len(self.dc[self.data_index].components)):\n",
    "            self.cb_components.addItem(self.dc[self.data_index].components[j].label)\n",
    "                \n",
    "\n",
    "#     def addRow(self):\n",
    "#         self.count_adds+=1\n",
    "#         self.cb_addData = QComboBox()\n",
    "#         for i in range(0, len(self.dc.data)):\n",
    "#             self.cb_addData.addItem(self.dc.data[i].label)\n",
    "#         self.cb_addData.currentIndexChanged.connect(self.addDataSelectionChange) \n",
    "#         self.layout.addWidget(self.cb_addData, self.count_adds, 0)   \n",
    "    \n",
    "#         self.cb_addComponents = QComboBox()\n",
    "#         self.cb_addComponents.addItem('Choose a component')       \n",
    "        \n",
    "#         self.layout.addWidget(self.cb_addComponents, self.count_adds, 1)    \n",
    "    \n",
    "#     def addDataSelectionChange(self,i):\n",
    "#         self.data_index = i  \n",
    "#         self.cb_addComponents.clear()\n",
    "#         for j in range (0, len(self.dc[self.data_index].components)):\n",
    "#             self.cb_addComponents.addItem(self.dc[self.data_index].components[j].label)\n",
    "#         self.cb_addComponents.currentIndexChanged.connect(self.runStats)     \n",
    "    \n",
    "class pandasModel(QtCore.QAbstractTableModel):\n",
    "    def __init__(self, df, parent=None):\n",
    "        QtCore.QAbstractTableModel.__init__(self, parent)\n",
    "        self.data_frame = df\n",
    "        super(pandasModel, self).__init__(parent)      \n",
    "\n",
    "    def rowCount(self, parent=None):\n",
    "        return len(self.data_frame.values)\n",
    "\n",
    "    def columnCount(self, parent=None):\n",
    "        return self.data_frame.columns.size\n",
    "\n",
    "    def data(self, index, role=Qt.DisplayRole):\n",
    "        if index.isValid():\n",
    "            if role == Qt.DisplayRole:\n",
    "                return QVariant(str(\n",
    "                    self.data_frame.values[index.row()][index.column()]))\n",
    "        return QVariant()\n",
    "    \n",
    "    def headerData(self, col, orientation, role):\n",
    "        if orientation == Qt.Horizontal and role == Qt.DisplayRole:\n",
    "            return QVariant(self.data_frame.columns[col])\n",
    "        if orientation == Qt.Vertical and role == Qt.DisplayRole:\n",
    "            return QVariant(self.data_frame.index[col])\n",
    "        return QVariant()                   \n",
    "            \n",
    "app = QApplication.instance()\n",
    "if app is None:\n",
    "    app = QApplication(sys.argv)\n",
    "else:\n",
    "    print('QApplication instance already exists: %s' % str(app))\n",
    "    \n",
    "ex = stat_widget(dc)\n",
    "ex.show()\n",
    "sys.exit(app.exec_())"
   ]
  },
  {
   "cell_type": "code",
   "execution_count": null,
   "metadata": {},
   "outputs": [],
   "source": []
  }
 ],
 "metadata": {
  "kernelspec": {
   "display_name": "Python 3",
   "language": "python",
   "name": "python3"
  },
  "language_info": {
   "codemirror_mode": {
    "name": "ipython",
    "version": 3
   },
   "file_extension": ".py",
   "mimetype": "text/x-python",
   "name": "python",
   "nbconvert_exporter": "python",
   "pygments_lexer": "ipython3",
   "version": "3.6.5"
  }
 },
 "nbformat": 4,
 "nbformat_minor": 2
}
